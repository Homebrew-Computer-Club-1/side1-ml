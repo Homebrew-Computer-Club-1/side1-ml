{
 "cells": [
  {
   "cell_type": "code",
   "execution_count": 3,
   "id": "57e85d3c",
   "metadata": {
    "id": "57e85d3c"
   },
   "outputs": [],
   "source": [
    "import numpy as np\n",
    "import pandas as pd\n",
    "import sklearn\n",
    "from sklearn.preprocessing import OneHotEncoder\n",
    "from sklearn.cluster import KMeans\n",
    "import math\n",
    "from numpy import dot\n",
    "from numpy.linalg import norm\n",
    "from sklearn.preprocessing import MinMaxScaler"
   ]
  },
  {
   "cell_type": "code",
   "execution_count": 4,
   "id": "6f3a514b",
   "metadata": {},
   "outputs": [],
   "source": [
    "raw_data = [\n",
    "  [\n",
    "    '113082415690584490861', '25',        '/m/0403l3g',\n",
    "    '/m/02ntfj',             '/m/025zzc', '/m/0bzvm2',\n",
    "    '/m/028sqc',             '/m/04rlf',  '/m/064t9',\n",
    "    '/m/01k8wb',             '/m/02vxn',  '/m/02jjt',\n",
    "    '/m/01k8wb',             '/m/019_rr', '/m/028sqc',\n",
    "    '/m/064t9',              '/m/04rlf',  '/m/01k8wb',\n",
    "    '/m/07c1v',              '/m/019_rr', '/m/019_rr',\n",
    "    '/g/120yrv6h',           '/m/019_rr', '/m/028sqc',\n",
    "    '/m/04rlf',              '/m/04rlf',  '/m/028sqc',\n",
    "    '/m/064t9',              '/m/04rlf',  '/m/064t9',\n",
    "    '/m/028sqc',             '/m/019_rr', '/m/01k8wb',\n",
    "    '/m/02vxn',              '/m/019_rr', '/m/02jjt',\n",
    "    '/m/02jjt',              '/m/028sqc', '/m/04rlf',\n",
    "    '/m/02vxn',              '/m/04rlf',  '/m/05rwpb',\n",
    "    '/m/064t9',              '/m/028sqc', '/m/064t9',\n",
    "    '/m/028sqc',             '/m/04rlf',  '/m/02jjt',\n",
    "    '/m/019_rr',             '/m/02wbm',  '/m/019_rr',\n",
    "    '/m/07c1v',              '/m/019_rr', '/m/01k8wb',\n",
    "    '/m/07c1v',              '/m/01k8wb', '/m/019_rr',\n",
    "    '/m/068hy',              '/m/019_rr', '/m/04rlf',\n",
    "    '/m/028sqc',             '/m/064t9',  '/m/028sqc',\n",
    "    '/m/064t9',              '/m/04rlf',  '/m/068hy',\n",
    "    '/m/019_rr'\n",
    "  ],\n",
    "  [\n",
    "    '115987064282754163674', '25',         '/m/02vxn',\n",
    "    '/m/02jjt',              '/m/02ntfj',  '/m/025zzc',\n",
    "    '/m/019_rr',             '/m/027x7n',  '/m/0403l3g',\n",
    "    '/m/0bzvm2',             '/m/03hf_rm', '/m/025zzc',\n",
    "    '/m/025zzc',             '/m/0bzvm2',  '/m/03hf_rm',\n",
    "    '/m/0403l3g',            '/m/03hf_rm', '/m/0403l3g',\n",
    "    '/m/025zzc',             '/m/02ntfj',  '/m/0bzvm2',\n",
    "    '/m/04rlf',              '/m/028sqc',  '/m/05rwpb',\n",
    "    '/m/06by7',              '/m/0glt670', '/m/02vxn',\n",
    "    '/m/04rlf',              '/m/02jjt',   '/m/01k8wb',\n",
    "    '/m/07c1v',              '/m/019_rr',  '/m/06ntj',\n",
    "    '/m/02jjt',              '/m/019_rr',  '/m/01k8wb',\n",
    "    '/m/07c1v',              '/m/0bzvm2',  '/m/0403l3g',\n",
    "    '/m/03hf_rm',            '/m/025zzc',  '/m/02vxn',\n",
    "    '/m/02jjt',              '/m/01k8wb',  '/m/098wr',\n",
    "    '/m/02vxn',              '/m/02jjt',   '/m/019_rr',\n",
    "    '/m/027x7n',             '/m/027x7n',  '/m/06ntj',\n",
    "    '/m/019_rr',             '/m/01k8wb',  '/m/0bzvm2',\n",
    "    '/m/0403l3g',            '/m/025zzc',  '/m/03hf_rm',\n",
    "    '/m/02ntfj',             '/m/02jjt',   '/m/0f2f9',\n",
    "    '/m/02vxn',              '/m/019_rr',  '/m/027x7n',\n",
    "    '/m/0403l3g',            '/m/03hf_rm', '/m/025zzc',\n",
    "    '/m/0bzvm2',             '/m/02jjt',   '/m/02vxn',\n",
    "    '/m/025zzc',             '/m/03hf_rm', '/m/0bzvm2',\n",
    "    '/m/0403l3g',            '/m/019_rr',  '/m/01k8wb',\n",
    "    '/m/025zzc',             '/m/03hf_rm', '/m/0403l3g',\n",
    "    '/m/0bzvm2',             '/m/02ntfj'\n",
    "  ]\n",
    "]"
   ]
  },
  {
   "cell_type": "code",
   "execution_count": 5,
   "id": "b5cc71f9",
   "metadata": {},
   "outputs": [],
   "source": [
    "#raw_data"
   ]
  },
  {
   "cell_type": "code",
   "execution_count": 6,
   "id": "715d5055",
   "metadata": {},
   "outputs": [],
   "source": [
    "raw_data = [[\"104666000123509160000\",\"14\",\"/m/027x7n\",\"/m/019_rr\",\"/m/02wbm\",\"/m/019_rr\",\"/m/027x7n\",\"/m/02wbm\",\"/m/027x7n\",\"/m/019_rr\",\"/m/019_rr\",\"/m/027x7n\",\"/m/06ntj\",\"/m/019_rr\",\"/m/02vx4\",\"/m/06ntj\",\"/m/019_rr\",\"/m/027x7n\",\"/m/06ntj\",\"/m/019_rr\",\"/m/027x7n\",\"/m/019_rr\",\"/m/027x7n\",\"/m/06ntj\",\"/m/0f2f9\",\"/m/02jjt\",\"/m/027x7n\",\"/m/019_rr\",\"/m/027x7n\",\"/m/019_rr\",\"/m/027x7n\",\"/m/019_rr\",\"/m/02vx4\",\"/m/06ntj\"],[\"111931018210891240000\",\"17\",\"/m/028sqc\",\"/m/064t9\",\"/m/02jjt\",\"/m/04rlf\",\"/m/032tl\",\"/m/019_rr\",\"/m/04rlf\",\"/m/064t9\",\"/m/028sqc\",\"/m/02jjt\",\"/m/04rlf\",\"/m/064t9\",\"/m/028sqc\",\"/m/019_rr\",\"/m/019_rr\",\"/m/019_rr\",\"/m/028sqc\",\"/m/064t9\",\"/m/04rlf\",\"/m/064t9\",\"/m/028sqc\",\"/m/04rlf\",\"/m/02jjt\",\"/m/019_rr\",\"/m/028sqc\",\"/m/04rlf\",\"/m/02jjt\",\"/m/064t9\",\"/m/032tl\",\"/m/019_rr\",\"/m/02wbm\",\"/m/019_rr\",\"/m/019_rr\",\"/m/032tl\",\"/m/06ntj\",\"/m/02jjt\",\"/m/019_rr\",\"/m/032tl\",\"/m/019_rr\",\"/m/032tl\",\"/m/019_rr\",\"/m/019_rr\",\"/m/02jjt\"],[\"113082415690584490000\",\"25\",\"/m/019_rr\",\"/m/02ntfj\",\"/m/025zzc\",\"/m/0403l3g\",\"/m/0bzvm2\",\"/m/019_rr\",\"/m/068hy\",\"/m/02wbm\",\"/m/019_rr\",\"/m/019_rr\",\"/m/01k8wb\",\"/m/07c1v\",\"/m/04rlf\",\"/m/064t9\",\"/m/028sqc\",\"/m/02jjt\",\"/m/01k8wb\",\"/m/019_rr\",\"/m/028sqc\",\"/m/04rlf\",\"/m/064t9\",\"/m/02vxn\",\"/m/02jjt\",\"/m/02jjt\",\"/m/02vxn\",\"/m/064t9\",\"/m/028sqc\",\"/m/04rlf\",\"/m/04rlf\",\"/m/028sqc\",\"/m/064t9\",\"/m/04rlf\",\"/m/028sqc\",\"/m/064t9\",\"/m/064t9\",\"/m/04rlf\",\"/m/028sqc\",\"/m/019_rr\",\"/m/04rlf\",\"/m/064t9\",\"/m/04rlf\",\"/m/028sqc\",\"/m/01k8wb\",\"/m/07c1v\",\"/m/019_rr\",\"/m/064t9\",\"/m/028sqc\",\"/m/04rlf\",\"/m/05rwpb\",\"/m/02jjt\",\"/m/04rlf\",\"/m/028sqc\",\"/m/019_rr\",\"/g/120yrv6h\",\"/m/028sqc\",\"/m/064t9\",\"/m/04rlf\",\"/m/01k8wb\",\"/m/019_rr\",\"/m/01k8wb\",\"/m/07c1v\",\"/m/019_rr\",\"/m/01k8wb\",\"/m/019_rr\",\"/m/07c1v\"],[\"115987064282754170000\",\"25\",\"/m/025zzc\",\"/m/0403l3g\",\"/m/03hf_rm\",\"/m/0bzvm2\",\"/m/02vxn\",\"/m/02jjt\",\"/m/04rlf\",\"/m/02jjt\",\"/m/02vxn\",\"/m/02ntfj\",\"/m/0bzvm2\",\"/m/03hf_rm\",\"/m/025zzc\",\"/m/0403l3g\",\"/m/02ntfj\",\"/m/0bzvm2\",\"/m/03hf_rm\",\"/m/025zzc\",\"/m/0403l3g\",\"/m/02jjt\",\"/m/02vxn\",\"/m/06ntj\",\"/m/02jjt\",\"/m/06by7\",\"/m/04rlf\",\"/m/028sqc\",\"/m/05rwpb\",\"/m/01k8wb\",\"/m/027x7n\",\"/m/019_rr\",\"/m/019_rr\",\"/m/02wbm\",\"/m/02ntfj\",\"/m/025zzc\",\"/m/0403l3g\",\"/m/03hf_rm\",\"/m/0bzvm2\",\"/m/019_rr\",\"/m/06ntj\",\"/m/027x7n\",\"/m/07c1v\",\"/m/01k8wb\",\"/m/019_rr\",\"/m/019_rr\",\"/m/027x7n\",\"/m/03hf_rm\",\"/m/025zzc\",\"/m/0bzvm2\",\"/m/0403l3g\",\"/m/0bzvm2\",\"/m/0403l3g\",\"/m/03hf_rm\",\"/m/02ntfj\",\"/m/025zzc\",\"/m/0403l3g\",\"/m/0bzvm2\",\"/m/03hf_rm\",\"/m/025zzc\",\"/m/02jjt\",\"/m/02vxn\",\"/m/01k8wb\",\"/m/07c1v\",\"/m/019_rr\",\"/m/01k8wb\",\"/m/07c1v\",\"/m/019_rr\",\"/m/02vxn\",\"/m/025zzc\",\"/m/02jjt\",\"/m/02ntfj\",\"/m/07c1v\",\"/m/019_rr\",\"/m/01k8wb\",\"/m/02jjt\",\"/m/019_rr\",\"/m/098wr\",\"/m/02wbm\",\"/m/025zzc\",\"/m/02ntfj\",\"/m/03hf_rm\",\"/m/0bzvm2\",\"/m/0403l3g\"],[\"116104082866269160000\",\"7\",\"/m/06ntj\",\"/m/01cgz\",\"/m/019_rr\",\"/m/07yv9\",\"/m/019_rr\",\"/m/04rlf\",\"/m/028sqc\",\"/m/05rwpb\",\"/m/01k8wb\",\"/m/098wr\",\"/m/028sqc\",\"/m/02jjt\",\"/m/04rlf\",\"/m/019_rr\",\"/m/02wbm\",\"/m/07c1v\",\"/m/019_rr\",\"/m/01k8wb\",\"/m/01k8wb\",\"/m/098wr\"]]"
   ]
  },
  {
   "cell_type": "code",
   "execution_count": 7,
   "id": "0637228a",
   "metadata": {},
   "outputs": [
    {
     "data": {
      "text/plain": [
       "[['104666000123509160000',\n",
       "  '14',\n",
       "  '/m/027x7n',\n",
       "  '/m/019_rr',\n",
       "  '/m/02wbm',\n",
       "  '/m/019_rr',\n",
       "  '/m/027x7n',\n",
       "  '/m/02wbm',\n",
       "  '/m/027x7n',\n",
       "  '/m/019_rr',\n",
       "  '/m/019_rr',\n",
       "  '/m/027x7n',\n",
       "  '/m/06ntj',\n",
       "  '/m/019_rr',\n",
       "  '/m/02vx4',\n",
       "  '/m/06ntj',\n",
       "  '/m/019_rr',\n",
       "  '/m/027x7n',\n",
       "  '/m/06ntj',\n",
       "  '/m/019_rr',\n",
       "  '/m/027x7n',\n",
       "  '/m/019_rr',\n",
       "  '/m/027x7n',\n",
       "  '/m/06ntj',\n",
       "  '/m/0f2f9',\n",
       "  '/m/02jjt',\n",
       "  '/m/027x7n',\n",
       "  '/m/019_rr',\n",
       "  '/m/027x7n',\n",
       "  '/m/019_rr',\n",
       "  '/m/027x7n',\n",
       "  '/m/019_rr',\n",
       "  '/m/02vx4',\n",
       "  '/m/06ntj'],\n",
       " ['111931018210891240000',\n",
       "  '17',\n",
       "  '/m/028sqc',\n",
       "  '/m/064t9',\n",
       "  '/m/02jjt',\n",
       "  '/m/04rlf',\n",
       "  '/m/032tl',\n",
       "  '/m/019_rr',\n",
       "  '/m/04rlf',\n",
       "  '/m/064t9',\n",
       "  '/m/028sqc',\n",
       "  '/m/02jjt',\n",
       "  '/m/04rlf',\n",
       "  '/m/064t9',\n",
       "  '/m/028sqc',\n",
       "  '/m/019_rr',\n",
       "  '/m/019_rr',\n",
       "  '/m/019_rr',\n",
       "  '/m/028sqc',\n",
       "  '/m/064t9',\n",
       "  '/m/04rlf',\n",
       "  '/m/064t9',\n",
       "  '/m/028sqc',\n",
       "  '/m/04rlf',\n",
       "  '/m/02jjt',\n",
       "  '/m/019_rr',\n",
       "  '/m/028sqc',\n",
       "  '/m/04rlf',\n",
       "  '/m/02jjt',\n",
       "  '/m/064t9',\n",
       "  '/m/032tl',\n",
       "  '/m/019_rr',\n",
       "  '/m/02wbm',\n",
       "  '/m/019_rr',\n",
       "  '/m/019_rr',\n",
       "  '/m/032tl',\n",
       "  '/m/06ntj',\n",
       "  '/m/02jjt',\n",
       "  '/m/019_rr',\n",
       "  '/m/032tl',\n",
       "  '/m/019_rr',\n",
       "  '/m/032tl',\n",
       "  '/m/019_rr',\n",
       "  '/m/019_rr',\n",
       "  '/m/02jjt'],\n",
       " ['113082415690584490000',\n",
       "  '25',\n",
       "  '/m/019_rr',\n",
       "  '/m/02ntfj',\n",
       "  '/m/025zzc',\n",
       "  '/m/0403l3g',\n",
       "  '/m/0bzvm2',\n",
       "  '/m/019_rr',\n",
       "  '/m/068hy',\n",
       "  '/m/02wbm',\n",
       "  '/m/019_rr',\n",
       "  '/m/019_rr',\n",
       "  '/m/01k8wb',\n",
       "  '/m/07c1v',\n",
       "  '/m/04rlf',\n",
       "  '/m/064t9',\n",
       "  '/m/028sqc',\n",
       "  '/m/02jjt',\n",
       "  '/m/01k8wb',\n",
       "  '/m/019_rr',\n",
       "  '/m/028sqc',\n",
       "  '/m/04rlf',\n",
       "  '/m/064t9',\n",
       "  '/m/02vxn',\n",
       "  '/m/02jjt',\n",
       "  '/m/02jjt',\n",
       "  '/m/02vxn',\n",
       "  '/m/064t9',\n",
       "  '/m/028sqc',\n",
       "  '/m/04rlf',\n",
       "  '/m/04rlf',\n",
       "  '/m/028sqc',\n",
       "  '/m/064t9',\n",
       "  '/m/04rlf',\n",
       "  '/m/028sqc',\n",
       "  '/m/064t9',\n",
       "  '/m/064t9',\n",
       "  '/m/04rlf',\n",
       "  '/m/028sqc',\n",
       "  '/m/019_rr',\n",
       "  '/m/04rlf',\n",
       "  '/m/064t9',\n",
       "  '/m/04rlf',\n",
       "  '/m/028sqc',\n",
       "  '/m/01k8wb',\n",
       "  '/m/07c1v',\n",
       "  '/m/019_rr',\n",
       "  '/m/064t9',\n",
       "  '/m/028sqc',\n",
       "  '/m/04rlf',\n",
       "  '/m/05rwpb',\n",
       "  '/m/02jjt',\n",
       "  '/m/04rlf',\n",
       "  '/m/028sqc',\n",
       "  '/m/019_rr',\n",
       "  '/g/120yrv6h',\n",
       "  '/m/028sqc',\n",
       "  '/m/064t9',\n",
       "  '/m/04rlf',\n",
       "  '/m/01k8wb',\n",
       "  '/m/019_rr',\n",
       "  '/m/01k8wb',\n",
       "  '/m/07c1v',\n",
       "  '/m/019_rr',\n",
       "  '/m/01k8wb',\n",
       "  '/m/019_rr',\n",
       "  '/m/07c1v'],\n",
       " ['115987064282754170000',\n",
       "  '25',\n",
       "  '/m/025zzc',\n",
       "  '/m/0403l3g',\n",
       "  '/m/03hf_rm',\n",
       "  '/m/0bzvm2',\n",
       "  '/m/02vxn',\n",
       "  '/m/02jjt',\n",
       "  '/m/04rlf',\n",
       "  '/m/02jjt',\n",
       "  '/m/02vxn',\n",
       "  '/m/02ntfj',\n",
       "  '/m/0bzvm2',\n",
       "  '/m/03hf_rm',\n",
       "  '/m/025zzc',\n",
       "  '/m/0403l3g',\n",
       "  '/m/02ntfj',\n",
       "  '/m/0bzvm2',\n",
       "  '/m/03hf_rm',\n",
       "  '/m/025zzc',\n",
       "  '/m/0403l3g',\n",
       "  '/m/02jjt',\n",
       "  '/m/02vxn',\n",
       "  '/m/06ntj',\n",
       "  '/m/02jjt',\n",
       "  '/m/06by7',\n",
       "  '/m/04rlf',\n",
       "  '/m/028sqc',\n",
       "  '/m/05rwpb',\n",
       "  '/m/01k8wb',\n",
       "  '/m/027x7n',\n",
       "  '/m/019_rr',\n",
       "  '/m/019_rr',\n",
       "  '/m/02wbm',\n",
       "  '/m/02ntfj',\n",
       "  '/m/025zzc',\n",
       "  '/m/0403l3g',\n",
       "  '/m/03hf_rm',\n",
       "  '/m/0bzvm2',\n",
       "  '/m/019_rr',\n",
       "  '/m/06ntj',\n",
       "  '/m/027x7n',\n",
       "  '/m/07c1v',\n",
       "  '/m/01k8wb',\n",
       "  '/m/019_rr',\n",
       "  '/m/019_rr',\n",
       "  '/m/027x7n',\n",
       "  '/m/03hf_rm',\n",
       "  '/m/025zzc',\n",
       "  '/m/0bzvm2',\n",
       "  '/m/0403l3g',\n",
       "  '/m/0bzvm2',\n",
       "  '/m/0403l3g',\n",
       "  '/m/03hf_rm',\n",
       "  '/m/02ntfj',\n",
       "  '/m/025zzc',\n",
       "  '/m/0403l3g',\n",
       "  '/m/0bzvm2',\n",
       "  '/m/03hf_rm',\n",
       "  '/m/025zzc',\n",
       "  '/m/02jjt',\n",
       "  '/m/02vxn',\n",
       "  '/m/01k8wb',\n",
       "  '/m/07c1v',\n",
       "  '/m/019_rr',\n",
       "  '/m/01k8wb',\n",
       "  '/m/07c1v',\n",
       "  '/m/019_rr',\n",
       "  '/m/02vxn',\n",
       "  '/m/025zzc',\n",
       "  '/m/02jjt',\n",
       "  '/m/02ntfj',\n",
       "  '/m/07c1v',\n",
       "  '/m/019_rr',\n",
       "  '/m/01k8wb',\n",
       "  '/m/02jjt',\n",
       "  '/m/019_rr',\n",
       "  '/m/098wr',\n",
       "  '/m/02wbm',\n",
       "  '/m/025zzc',\n",
       "  '/m/02ntfj',\n",
       "  '/m/03hf_rm',\n",
       "  '/m/0bzvm2',\n",
       "  '/m/0403l3g'],\n",
       " ['116104082866269160000',\n",
       "  '7',\n",
       "  '/m/06ntj',\n",
       "  '/m/01cgz',\n",
       "  '/m/019_rr',\n",
       "  '/m/07yv9',\n",
       "  '/m/019_rr',\n",
       "  '/m/04rlf',\n",
       "  '/m/028sqc',\n",
       "  '/m/05rwpb',\n",
       "  '/m/01k8wb',\n",
       "  '/m/098wr',\n",
       "  '/m/028sqc',\n",
       "  '/m/02jjt',\n",
       "  '/m/04rlf',\n",
       "  '/m/019_rr',\n",
       "  '/m/02wbm',\n",
       "  '/m/07c1v',\n",
       "  '/m/019_rr',\n",
       "  '/m/01k8wb',\n",
       "  '/m/01k8wb',\n",
       "  '/m/098wr']]"
      ]
     },
     "execution_count": 7,
     "metadata": {},
     "output_type": "execute_result"
    }
   ],
   "source": [
    "raw_data"
   ]
  },
  {
   "cell_type": "code",
   "execution_count": 8,
   "id": "cdec68f1",
   "metadata": {},
   "outputs": [],
   "source": [
    "# 데이터 전처리\n",
    "\n",
    "class DataPreprocessing(object):\n",
    "   \n",
    "    def ListToArray(self, raw_data): \n",
    "        self.arr = np.array(raw_data)\n",
    "        self.n_samples = self.arr.shape[0]\n",
    "                                    \n",
    "    def MakeColumns(self):\n",
    "        self.user_id = []\n",
    "        for i in range(self.arr.shape[0]):\n",
    "            self.user_id.append(self.arr[i][0])\n",
    "            \n",
    "        self.channels = []\n",
    "        for i in range(self.arr.shape[0]):\n",
    "            self.channels.append(self.arr[i][1])\n",
    "            \n",
    "        self.cate = []\n",
    "        for i in range(self.arr.shape[0]):\n",
    "            self.cate.append(self.arr[i][2:])\n",
    "    \n",
    "    def TotalNumOfCategory(self): # 각 이용자의 구독한 채널에 대한 총 카테고리 개수 추출 (구독 채널 수 아님)\n",
    "        self.num_category = []\n",
    "        for i in range(self.arr.shape[0]):\n",
    "            count = 0\n",
    "            for j in self.cate[i][:]:\n",
    "                count += 1\n",
    "            self.num_category.append(count)\n",
    "            \n",
    "    def MinMaxScaling(self): # 구독 채널 수 feature MinMaxScaling\n",
    "        scaler = MinMaxScaler()\n",
    "        self.channels_scaled = scaler.fit_transform(np.array(self.channels).reshape(-1,1))\n",
    "        self.channels_scaled = self.channels_scaled.reshape(-1)\n",
    "        \n",
    "    def ArrayToDataframe(self):\n",
    "        self.raw_df = pd.DataFrame({'Channels': self.channels_scaled, 'Category': self.cate}, index=self.user_id)\n",
    "    \n",
    "    def Extraction(self):\n",
    "        self.category = []\n",
    "        \n",
    "        for i in range(self.raw_df['Category'].shape[0]):\n",
    "            np.array(pd.DataFrame(self.raw_df['Category'][i]).value_counts()).reshape(1,-1)\n",
    "            \n",
    "            self.category_series = pd.DataFrame(self.raw_df['Category'][i]).value_counts()\n",
    "            \n",
    "            self.df_category = pd.DataFrame(np.array(self.category_series).reshape(1, -1), \n",
    "                               columns = [j for j in self.category_series.index])\n",
    "\n",
    "            self.category.append(self.df_category.sort_values(by=0, axis=1).iloc[0, -2:].index.tolist())\n",
    "            \n",
    "        self.first_category = pd.DataFrame(self.category)[0].str[0]\n",
    "        self.second_category = pd.DataFrame(self.category)[1].str[0]\n",
    "        \n",
    "    def EachCategoryToFeature(self): # 고유한 카테고리 추출 (column별로 추출하기 때문에 중복이 있을 수 있음)\n",
    "        self.cate_df = pd.DataFrame(self.category)\n",
    "        self.two_cate_list = []\n",
    "        for i in range(2):\n",
    "            for cate in self.cate_df[i].unique():\n",
    "                self.two_cate_list.append(cate)\n",
    "                \n",
    "        \n",
    "    def NumOfCategory(self): # 각 이용자의 선호하는 2개의 카테고리의 개수 추출\n",
    "        self.weight_cate = []\n",
    "        for i in range(self.arr.shape[0]): # row\n",
    "            for j in range(2): # col\n",
    "                count = 0\n",
    "                for cate in self.cate[i]: \n",
    "                    if cate == self.category[i][j][0]:\n",
    "                        count += 1\n",
    "                self.weight_cate.append(count)\n",
    "        self.weight_cate = np.array(self.weight_cate).reshape(self.n_samples, -1)\n",
    "    \n",
    "    def ToDf(self):\n",
    "        self.df = pd.DataFrame(columns=pd.DataFrame(self.two_cate_list)[0].unique(), index=self.user_id)\n",
    "        self.df['channels'] = self.channels_scaled\n",
    "        #self.df['channels'] = self.channels\n",
    "        self.df.fillna(0, inplace=True) # NaN 값 0으로 변경\n",
    "        self.df = self.df.astype('float')\n",
    "    \n",
    "    def PutWeightIntoCols(self): # 각 이용자의 선호하는 두 개의 카테고리에 대한 가중치(해당 카테고리 구독 개수 / 전체 구독 카테고리 개수)를 알맞은 자리에 입력\n",
    "        for row in range(self.weight_cate.shape[0]):\n",
    "            self.dic = {}\n",
    "            for col in range(self.weight_cate.shape[1]):\n",
    "                self.dic[self.category[row][col][0]] = self.weight_cate[row][col]\n",
    "            for key in self.dic.keys():\n",
    "                for col in self.df.columns:\n",
    "                    if (key == col):\n",
    "                        self.df[col][row] = self.dic[key] / self.num_category[row] # 해당 카테고리 구독 개수 / 전체 구독 카테고리 개수\n",
    "        \n",
    "        return self.df"
   ]
  },
  {
   "cell_type": "code",
   "execution_count": 9,
   "id": "a84a55fa",
   "metadata": {},
   "outputs": [],
   "source": [
    "dt = DataPreprocessing()"
   ]
  },
  {
   "cell_type": "code",
   "execution_count": 10,
   "id": "e4a7f053",
   "metadata": {},
   "outputs": [
    {
     "name": "stderr",
     "output_type": "stream",
     "text": [
      "/var/folders/0t/m5tmk07x1jn8mbwk5mpr748h0000gp/T/ipykernel_92710/492440258.py:6: VisibleDeprecationWarning: Creating an ndarray from ragged nested sequences (which is a list-or-tuple of lists-or-tuples-or ndarrays with different lengths or shapes) is deprecated. If you meant to do this, you must specify 'dtype=object' when creating the ndarray.\n",
      "  self.arr = np.array(raw_data)\n"
     ]
    }
   ],
   "source": [
    "dt.ListToArray(raw_data)"
   ]
  },
  {
   "cell_type": "code",
   "execution_count": 11,
   "id": "b856bc26",
   "metadata": {},
   "outputs": [
    {
     "name": "stdout",
     "output_type": "stream",
     "text": [
      "['104666000123509160000', '111931018210891240000', '113082415690584490000', '115987064282754170000', '116104082866269160000'] ['14', '17', '25', '25', '7']\n"
     ]
    }
   ],
   "source": [
    "dt.MakeColumns()\n",
    "print(dt.user_id, dt.channels)"
   ]
  },
  {
   "cell_type": "code",
   "execution_count": 12,
   "id": "2b7db5ec",
   "metadata": {},
   "outputs": [],
   "source": [
    "dt.TotalNumOfCategory()"
   ]
  },
  {
   "cell_type": "code",
   "execution_count": 13,
   "id": "2d4d714a",
   "metadata": {},
   "outputs": [],
   "source": [
    "dt.MinMaxScaling()"
   ]
  },
  {
   "cell_type": "code",
   "execution_count": 14,
   "id": "d284f87a",
   "metadata": {},
   "outputs": [],
   "source": [
    "dt.ArrayToDataframe()"
   ]
  },
  {
   "cell_type": "code",
   "execution_count": 15,
   "id": "d48cc860",
   "metadata": {},
   "outputs": [
    {
     "data": {
      "text/plain": [
       "[[('/m/027x7n',), ('/m/019_rr',)],\n",
       " [('/m/064t9',), ('/m/019_rr',)],\n",
       " [('/m/019_rr',), ('/m/04rlf',)],\n",
       " [('/m/025zzc',), ('/m/019_rr',)],\n",
       " [('/m/01k8wb',), ('/m/019_rr',)]]"
      ]
     },
     "execution_count": 15,
     "metadata": {},
     "output_type": "execute_result"
    }
   ],
   "source": [
    "dt.Extraction()\n",
    "dt.category"
   ]
  },
  {
   "cell_type": "code",
   "execution_count": 16,
   "id": "9dc04b4f",
   "metadata": {},
   "outputs": [
    {
     "data": {
      "text/plain": [
       "[('/m/027x7n',),\n",
       " ('/m/064t9',),\n",
       " ('/m/019_rr',),\n",
       " ('/m/025zzc',),\n",
       " ('/m/01k8wb',),\n",
       " ('/m/019_rr',),\n",
       " ('/m/04rlf',)]"
      ]
     },
     "execution_count": 16,
     "metadata": {},
     "output_type": "execute_result"
    }
   ],
   "source": [
    "dt.EachCategoryToFeature()\n",
    "dt.two_cate_list"
   ]
  },
  {
   "cell_type": "code",
   "execution_count": 17,
   "id": "f608b1bb",
   "metadata": {},
   "outputs": [
    {
     "data": {
      "text/plain": [
       "array([[10, 11],\n",
       "       [ 6, 12],\n",
       "       [11, 11],\n",
       "       [ 9,  9],\n",
       "       [ 3,  4]])"
      ]
     },
     "execution_count": 17,
     "metadata": {},
     "output_type": "execute_result"
    }
   ],
   "source": [
    "dt.NumOfCategory()\n",
    "dt.weight_cate"
   ]
  },
  {
   "cell_type": "code",
   "execution_count": 18,
   "id": "8e3b4448",
   "metadata": {
    "scrolled": false
   },
   "outputs": [],
   "source": [
    "# 가장 많이 구독한 채널의 카테고리와 두번째로 많이 구독한 채널의 카테고리를 각각 feature로 할당\n",
    "\n",
    "dt.ToDf()"
   ]
  },
  {
   "cell_type": "code",
   "execution_count": 19,
   "id": "93b0334a",
   "metadata": {},
   "outputs": [
    {
     "data": {
      "text/html": [
       "<div>\n",
       "<style scoped>\n",
       "    .dataframe tbody tr th:only-of-type {\n",
       "        vertical-align: middle;\n",
       "    }\n",
       "\n",
       "    .dataframe tbody tr th {\n",
       "        vertical-align: top;\n",
       "    }\n",
       "\n",
       "    .dataframe thead th {\n",
       "        text-align: right;\n",
       "    }\n",
       "</style>\n",
       "<table border=\"1\" class=\"dataframe\">\n",
       "  <thead>\n",
       "    <tr style=\"text-align: right;\">\n",
       "      <th></th>\n",
       "      <th>/m/027x7n</th>\n",
       "      <th>/m/064t9</th>\n",
       "      <th>/m/019_rr</th>\n",
       "      <th>/m/025zzc</th>\n",
       "      <th>/m/01k8wb</th>\n",
       "      <th>/m/04rlf</th>\n",
       "      <th>channels</th>\n",
       "    </tr>\n",
       "  </thead>\n",
       "  <tbody>\n",
       "    <tr>\n",
       "      <th>104666000123509160000</th>\n",
       "      <td>0.3125</td>\n",
       "      <td>0.000000</td>\n",
       "      <td>0.343750</td>\n",
       "      <td>0.000000</td>\n",
       "      <td>0.00</td>\n",
       "      <td>0.000000</td>\n",
       "      <td>0.388889</td>\n",
       "    </tr>\n",
       "    <tr>\n",
       "      <th>111931018210891240000</th>\n",
       "      <td>0.0000</td>\n",
       "      <td>0.139535</td>\n",
       "      <td>0.279070</td>\n",
       "      <td>0.000000</td>\n",
       "      <td>0.00</td>\n",
       "      <td>0.000000</td>\n",
       "      <td>0.555556</td>\n",
       "    </tr>\n",
       "    <tr>\n",
       "      <th>113082415690584490000</th>\n",
       "      <td>0.0000</td>\n",
       "      <td>0.000000</td>\n",
       "      <td>0.169231</td>\n",
       "      <td>0.000000</td>\n",
       "      <td>0.00</td>\n",
       "      <td>0.169231</td>\n",
       "      <td>1.000000</td>\n",
       "    </tr>\n",
       "    <tr>\n",
       "      <th>115987064282754170000</th>\n",
       "      <td>0.0000</td>\n",
       "      <td>0.000000</td>\n",
       "      <td>0.109756</td>\n",
       "      <td>0.109756</td>\n",
       "      <td>0.00</td>\n",
       "      <td>0.000000</td>\n",
       "      <td>1.000000</td>\n",
       "    </tr>\n",
       "    <tr>\n",
       "      <th>116104082866269160000</th>\n",
       "      <td>0.0000</td>\n",
       "      <td>0.000000</td>\n",
       "      <td>0.200000</td>\n",
       "      <td>0.000000</td>\n",
       "      <td>0.15</td>\n",
       "      <td>0.000000</td>\n",
       "      <td>0.000000</td>\n",
       "    </tr>\n",
       "  </tbody>\n",
       "</table>\n",
       "</div>"
      ],
      "text/plain": [
       "                       /m/027x7n  /m/064t9  /m/019_rr  /m/025zzc  /m/01k8wb  \\\n",
       "104666000123509160000     0.3125  0.000000   0.343750   0.000000       0.00   \n",
       "111931018210891240000     0.0000  0.139535   0.279070   0.000000       0.00   \n",
       "113082415690584490000     0.0000  0.000000   0.169231   0.000000       0.00   \n",
       "115987064282754170000     0.0000  0.000000   0.109756   0.109756       0.00   \n",
       "116104082866269160000     0.0000  0.000000   0.200000   0.000000       0.15   \n",
       "\n",
       "                       /m/04rlf  channels  \n",
       "104666000123509160000  0.000000  0.388889  \n",
       "111931018210891240000  0.000000  0.555556  \n",
       "113082415690584490000  0.169231  1.000000  \n",
       "115987064282754170000  0.000000  1.000000  \n",
       "116104082866269160000  0.000000  0.000000  "
      ]
     },
     "execution_count": 19,
     "metadata": {},
     "output_type": "execute_result"
    }
   ],
   "source": [
    "df = dt.PutWeightIntoCols()\n",
    "df"
   ]
  },
  {
   "cell_type": "code",
   "execution_count": 20,
   "id": "e278630f",
   "metadata": {},
   "outputs": [
    {
     "data": {
      "text/plain": [
       "array([[ 0.23429406,  0.25578062],\n",
       "       [ 0.03512103, -0.02634125],\n",
       "       [-0.42805691, -0.02507672],\n",
       "       [-0.4255668 , -0.04917272],\n",
       "       [ 0.58420862, -0.15518992]])"
      ]
     },
     "execution_count": 20,
     "metadata": {},
     "output_type": "execute_result"
    }
   ],
   "source": [
    "# 주성분분석을 통해 2차원으로 특성의 차원 축소\n",
    "\n",
    "from sklearn.decomposition import PCA\n",
    "\n",
    "pca = PCA(n_components=2)\n",
    "features_pca = pca.fit_transform(df)\n",
    "features_pca"
   ]
  },
  {
   "cell_type": "code",
   "execution_count": 21,
   "id": "cce67eaa",
   "metadata": {},
   "outputs": [
    {
     "data": {
      "text/html": [
       "<div>\n",
       "<style scoped>\n",
       "    .dataframe tbody tr th:only-of-type {\n",
       "        vertical-align: middle;\n",
       "    }\n",
       "\n",
       "    .dataframe tbody tr th {\n",
       "        vertical-align: top;\n",
       "    }\n",
       "\n",
       "    .dataframe thead th {\n",
       "        text-align: right;\n",
       "    }\n",
       "</style>\n",
       "<table border=\"1\" class=\"dataframe\">\n",
       "  <thead>\n",
       "    <tr style=\"text-align: right;\">\n",
       "      <th></th>\n",
       "      <th>pca_x</th>\n",
       "      <th>pca_y</th>\n",
       "    </tr>\n",
       "  </thead>\n",
       "  <tbody>\n",
       "    <tr>\n",
       "      <th>0</th>\n",
       "      <td>0.234294</td>\n",
       "      <td>0.255781</td>\n",
       "    </tr>\n",
       "    <tr>\n",
       "      <th>1</th>\n",
       "      <td>0.035121</td>\n",
       "      <td>-0.026341</td>\n",
       "    </tr>\n",
       "    <tr>\n",
       "      <th>2</th>\n",
       "      <td>-0.428057</td>\n",
       "      <td>-0.025077</td>\n",
       "    </tr>\n",
       "    <tr>\n",
       "      <th>3</th>\n",
       "      <td>-0.425567</td>\n",
       "      <td>-0.049173</td>\n",
       "    </tr>\n",
       "    <tr>\n",
       "      <th>4</th>\n",
       "      <td>0.584209</td>\n",
       "      <td>-0.155190</td>\n",
       "    </tr>\n",
       "  </tbody>\n",
       "</table>\n",
       "</div>"
      ],
      "text/plain": [
       "      pca_x     pca_y\n",
       "0  0.234294  0.255781\n",
       "1  0.035121 -0.026341\n",
       "2 -0.428057 -0.025077\n",
       "3 -0.425567 -0.049173\n",
       "4  0.584209 -0.155190"
      ]
     },
     "execution_count": 21,
     "metadata": {},
     "output_type": "execute_result"
    }
   ],
   "source": [
    "# 2차원으로 축소한 특성에 대한 df 생성\n",
    "\n",
    "df_pca = pd.DataFrame(features_pca, columns=['pca_x', 'pca_y'])\n",
    "df_pca"
   ]
  },
  {
   "cell_type": "code",
   "execution_count": 22,
   "id": "56848a98",
   "metadata": {},
   "outputs": [
    {
     "data": {
      "image/png": "[encoded data removed]",
      "text/plain": [
       "<Figure size 432x288 with 1 Axes>"
      ]
     },
     "metadata": {
      "needs_background": "light"
     },
     "output_type": "display_data"
    }
   ],
   "source": [
    "# 각 데이터 포인트 시각화\n",
    "\n",
    "import matplotlib.pyplot as plt\n",
    "\n",
    "marker = ['o', '^', '<', '>', '*']\n",
    "for i in range(5):\n",
    "    plt.scatter(x=df_pca.loc[i,'pca_x'], y=df_pca.loc[i,'pca_y'], marker=marker[i])\n",
    "\n",
    "plt.xlabel('PCA 1')\n",
    "plt.ylabel('PCA 2')\n",
    "plt.title('Visualization by 2 PCA Components')\n",
    "plt.show()\n",
    "\n",
    "# 코사인 유사도 기준으로 데이터 포인터 간의 유사성을 측정하기 때문에 시각화 결과의 직접적인 거리와 유사성 간에는 상관성이 낮음(혹은 없음)"
   ]
  },
  {
   "cell_type": "code",
   "execution_count": 23,
   "id": "604f7430",
   "metadata": {},
   "outputs": [],
   "source": [
    "# sklearn의 cosine_similarity 사용\n",
    "# 코사인 유사도 계산 시 시간복잡도 문제 해결\n",
    "\n",
    "from sklearn.metrics.pairwise import cosine_similarity\n",
    "from sklearn.metrics.pairwise import euclidean_distances\n",
    "\n",
    "class Classification(object):\n",
    "    \n",
    "    def __init__(self, df_data):\n",
    "        self.df = df_data\n",
    "        self.n_samples = self.df.shape[0]\n",
    "    \n",
    "    def Ohe(self, df): # 각 샘플에 대해 추출한 가장 선호하는 2개의 특성에 대해 원핫인코딩\n",
    "        ohe = OneHotEncoder(sparse=False)\n",
    "        self.train_feature = ohe.fit_transform(np.array(df[['first_category', 'second_category']]).reshape(-1,1))\n",
    "    \"\"\"\n",
    "    def makeData(self, channels):\n",
    "        channels = np.array(channels).reshape(self.n_samples, -1)\n",
    "        self.X_train = np.hstack((channels, np.array(self.train_feature).reshape(self.n_samples, -1)))\n",
    "    \"\"\"\n",
    "    def makeData(self):\n",
    "        self.X_train = np.array(self.df)\n",
    "        \n",
    "    def Kmeans(self): # k_means 클러스터링\n",
    "        model = KMeans(n_clusters=2)\n",
    "        model.fit(self.X_train)\n",
    "        return np.array(model.predict(self.X_train))\n",
    "    \n",
    "    def ReturnResult_cosine_similarity(self, k=2):\n",
    "        k_users_dict = {}\n",
    "        self.distance = []\n",
    "        for i in range(0, self.X_train.shape[0]):\n",
    "            distance = [cosine_similarity(self.X_train[i].reshape(1,-1), self.X_train)]\n",
    "            self.distance.append(distance)\n",
    "            # i 번째 데이터 포인터와 다른 데이터들 사이의 거리를 작은순으로 정렬한 후 해당 인덱스를 이용해서 가장 가까운 k명의 이용자 선별\n",
    "            self.distance_idx = np.array(distance).ravel().argsort()\n",
    "\n",
    "            google_id = []\n",
    "            for j in range(0, k):\n",
    "                google_id.append(self.df.index[self.distance_idx[j]])\n",
    "            k_users_dict[self.df.index[i]] = google_id\n",
    "        \n",
    "        return k_users_dict"
   ]
  },
  {
   "cell_type": "code",
   "execution_count": 24,
   "id": "07da5b7a",
   "metadata": {
    "id": "07da5b7a"
   },
   "outputs": [],
   "source": [
    "cl = Classification(df)"
   ]
  },
  {
   "cell_type": "code",
   "execution_count": 25,
   "id": "12d06507",
   "metadata": {},
   "outputs": [
    {
     "data": {
      "text/plain": [
       "'\\ncl.Ohe(df)\\ncl.train_feature\\n'"
      ]
     },
     "execution_count": 25,
     "metadata": {},
     "output_type": "execute_result"
    }
   ],
   "source": [
    "\"\"\"\n",
    "cl.Ohe(df)\n",
    "cl.train_feature\n",
    "\"\"\""
   ]
  },
  {
   "cell_type": "code",
   "execution_count": 26,
   "id": "5f5935bb",
   "metadata": {
    "id": "5f5935bb"
   },
   "outputs": [
    {
     "data": {
      "text/plain": [
       "array([[0.3125    , 0.        , 0.34375   , 0.        , 0.        ,\n",
       "        0.        , 0.38888889],\n",
       "       [0.        , 0.13953488, 0.27906977, 0.        , 0.        ,\n",
       "        0.        , 0.55555556],\n",
       "       [0.        , 0.        , 0.16923077, 0.        , 0.        ,\n",
       "        0.16923077, 1.        ],\n",
       "       [0.        , 0.        , 0.1097561 , 0.1097561 , 0.        ,\n",
       "        0.        , 1.        ],\n",
       "       [0.        , 0.        , 0.2       , 0.        , 0.15      ,\n",
       "        0.        , 0.        ]])"
      ]
     },
     "execution_count": 26,
     "metadata": {},
     "output_type": "execute_result"
    }
   ],
   "source": [
    "cl.makeData()\n",
    "cl.X_train"
   ]
  },
  {
   "cell_type": "code",
   "execution_count": 27,
   "id": "85c2c5ca",
   "metadata": {
    "colab": {
     "base_uri": "https://localhost:8080/"
    },
    "id": "85c2c5ca",
    "outputId": "0a859e06-01bc-4cf6-9418-2a2080a01609"
   },
   "outputs": [],
   "source": [
    "#result = cl.Kmeans()\n",
    "#result"
   ]
  },
  {
   "cell_type": "code",
   "execution_count": 28,
   "id": "bd80ab45",
   "metadata": {
    "id": "bd80ab45"
   },
   "outputs": [],
   "source": [
    "k_users = cl.ReturnResult_cosine_similarity(2)"
   ]
  },
  {
   "cell_type": "code",
   "execution_count": 29,
   "id": "a558ea2b",
   "metadata": {},
   "outputs": [
    {
     "data": {
      "text/plain": [
       "{'104666000123509160000': ['116104082866269160000', '115987064282754170000'],\n",
       " '111931018210891240000': ['116104082866269160000', '104666000123509160000'],\n",
       " '113082415690584490000': ['116104082866269160000', '104666000123509160000'],\n",
       " '115987064282754170000': ['116104082866269160000', '104666000123509160000'],\n",
       " '116104082866269160000': ['115987064282754170000', '113082415690584490000']}"
      ]
     },
     "execution_count": 29,
     "metadata": {},
     "output_type": "execute_result"
    }
   ],
   "source": [
    "k_users"
   ]
  },
  {
   "cell_type": "code",
   "execution_count": 30,
   "id": "57be1f7c",
   "metadata": {},
   "outputs": [
    {
     "data": {
      "text/plain": [
       "[[array([[1.        , 0.80816872, 0.71764159, 0.69583065, 0.45390733]])],\n",
       " [array([[0.80816872, 1.        , 0.9200417 , 0.90908917, 0.35038386]])],\n",
       " [array([[0.71764159, 0.9200417 , 1.        , 0.97887752, 0.13166632]])],\n",
       " [array([[0.69583065, 0.90908917, 0.97887752, 1.        , 0.08676588]])],\n",
       " [array([[0.45390733, 0.35038386, 0.13166632, 0.08676588, 1.        ]])]]"
      ]
     },
     "execution_count": 30,
     "metadata": {},
     "output_type": "execute_result"
    }
   ],
   "source": [
    "cl.distance"
   ]
  },
  {
   "cell_type": "code",
   "execution_count": null,
   "id": "f7e331a1",
   "metadata": {},
   "outputs": [],
   "source": []
  }
 ],
 "metadata": {
  "colab": {
   "collapsed_sections": [],
   "provenance": []
  },
  "kernelspec": {
   "display_name": "Python 3 (ipykernel)",
   "language": "python",
   "name": "python3"
  },
  "language_info": {
   "codemirror_mode": {
    "name": "ipython",
    "version": 3
   },
   "file_extension": ".py",
   "mimetype": "text/x-python",
   "name": "python",
   "nbconvert_exporter": "python",
   "pygments_lexer": "ipython3",
   "version": "3.9.12"
  }
 },
 "nbformat": 4,
 "nbformat_minor": 5
}
