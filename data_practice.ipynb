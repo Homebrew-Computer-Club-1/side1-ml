{
 "cells": [
  {
   "cell_type": "code",
   "execution_count": null,
   "id": "57e85d3c",
   "metadata": {},
   "outputs": [],
   "source": [
    "import numpy as np\n",
    "import pandas as pd\n",
    "import matplotlib.pyplot as plt\n",
    "import sklearn\n",
    "from sklearn.preprocessing import OneHotEncoder\n",
    "from sklearn.cluster import KMeans\n",
    "import math"
   ]
  },
  {
   "cell_type": "code",
   "execution_count": null,
   "id": "0356d7a9",
   "metadata": {},
   "outputs": [],
   "source": [
    "# 유튜브 구독정보 난수생성기로 임의 생성\n",
    "\n",
    "class RandomGenerator(object):\n",
    "   \n",
    "    def __init__(self, random_state=1):\n",
    "        \"\"\"\n",
    "        -매개변수-\n",
    "        random_state : 가중치 초기화를 위한 무작위 난수 생성기의 seed\n",
    "        \"\"\"\n",
    "        self.random_state = random_state\n",
    "        \n",
    "    def GeneratingRandomData(self, loc=4, size=5000, scale=3, n_features=10):\n",
    "        \"\"\"\n",
    "        난수생성기로 임의 데이터 생성\n",
    "        \"\"\"\n",
    "    \n",
    "        np.random.seed(self.random_state)\n",
    "        # 특정 seed를 가지는 np.random.RandomState() 객체를 만들고, 이 객체를 통해서 난수 생성\n",
    "        self.data = np.random.normal(loc, scale, size)\n",
    "        for i in range(len(self.data)):\n",
    "            self.data[i] = (abs(int(self.data[i])))\n",
    "                \n",
    "        return self.data.reshape(-1, n_features)\n",
    "    \n",
    "    def GeneratingFeature(self): # feature 임의 생성\n",
    "        self.feature = ['Game', 'Cook', \"Travel\", \"Money\", \"Academy\", \"Learning\", \"Sing\", \"Sports\", \"Machine\", \"Mistery\"]\n",
    "    \n",
    "    def ArrayToDataframe(self, random_array, n_sample):\n",
    "        return pd.DataFrame(random_array, index=range(0, n_sample), columns=self.feature)"
   ]
  },
  {
   "cell_type": "code",
   "execution_count": null,
   "id": "08be5008",
   "metadata": {},
   "outputs": [],
   "source": [
    "# 난수생성기 객체 생성\n",
    "\n",
    "dataGenerator = RandomGenerator(156)"
   ]
  },
  {
   "cell_type": "code",
   "execution_count": null,
   "id": "d8245c36",
   "metadata": {},
   "outputs": [],
   "source": [
    "randomData = dataGenerator.GeneratingRandomData()\n",
    "randomData.shape"
   ]
  },
  {
   "cell_type": "code",
   "execution_count": null,
   "id": "24a33231",
   "metadata": {},
   "outputs": [],
   "source": [
    "# feature 이름 리스트 구성\n",
    "\n",
    "feature_names = ['Game', 'Cook', \"Travel\", \"Money\", \"Academy\", \"Learning\", \"Sing\", \"Sports\", \"Machine\", \"Mistery\"]"
   ]
  },
  {
   "cell_type": "code",
   "execution_count": null,
   "id": "7a0d6ded",
   "metadata": {},
   "outputs": [],
   "source": [
    "dataGenerator.GeneratingFeature()"
   ]
  },
  {
   "cell_type": "code",
   "execution_count": null,
   "id": "294baa8a",
   "metadata": {},
   "outputs": [],
   "source": [
    "dfRandomData = dataGenerator.ArrayToDataframe(randomData, 500)\n",
    "dfRandomData"
   ]
  },
  {
   "cell_type": "code",
   "execution_count": null,
   "id": "948392ec",
   "metadata": {},
   "outputs": [],
   "source": [
    "class Classification(object):\n",
    "    \n",
    "    def __init__(self, df_data):\n",
    "        self.df = df_data\n",
    "    \n",
    "    def Extraction(self):\n",
    "        # 가장 선호하는 feature 추출\n",
    "        self.ls = []\n",
    "        for i in range(0, self.df.shape[0]):\n",
    "            self.ls.append(self.df.sort_values(by=[i], axis=1).iloc[i, -2:].index.tolist())\n",
    "            \n",
    "        # 각 이용자의 구독 채널 수 추출\n",
    "        arr = np.array(self.df)\n",
    "        self.num_ch = np.sum(arr, axis=1).reshape(-1, 1)\n",
    "        \n",
    "    def Ohe(self): # 각 샘플에 대해 추출한 가장 선호하는 2개의 특성에 대해 원핫인코딩\n",
    "        ohe = OneHotEncoder(sparse=False)\n",
    "        return ohe.fit_transform(self.ls)\n",
    "    \n",
    "    def makeData(self, train_feature):\n",
    "        self.X_train = np.hstack((self.num_ch, train_feature))\n",
    "        \n",
    "    def Kmeans(self): # k_means 클러스터링\n",
    "        model = KMeans(n_clusters=16)\n",
    "        model.fit(self.X_train)\n",
    "        return np.array(model.predict(self.X_train))\n",
    "    \n",
    "    def euclidean_distance(pt1, pt2): # 데이터 포인트 거리 측정\n",
    "      distance = 0\n",
    "      for i in range(len(pt1)):\n",
    "        distance += (pt1[i] - pt2[i]) ** 2\n",
    "      return distance ** 0.5\n",
    "    \n",
    "    def ReturnResult(self, k=5): \n",
    "        # 각 이용자마다 가장 가까운 k개의 이용자 매칭 결과 반환\n",
    "        # 현재 시간복잡도가 O(n^2)이므로 계산량이 많음 -> 추후 시간복잡도 감소 필요\n",
    "        \n",
    "        #k = 5\n",
    "        k_users = np.empty((0,k))\n",
    "        for i in range(0, self.X_train.shape[0]):\n",
    "            distance = []\n",
    "            for j in range(0, self.X_train.shape[0]):\n",
    "                if i != j:\n",
    "                    distance.append(euclidean_distance(self.X_train[i, :], self.X_train[j, :]))\n",
    "                if j == (self.X_train.shape[0] - 1):\n",
    "                    # i 번째 데이터 포인터와 다른 데이터들 사이의 거리를 작은순으로 정렬한 후 해당 인덱스를 이용해서 가장 가까운 k명의 이용자 선별\n",
    "                    distance_idx = np.array(distance).argsort()\n",
    "                    k_users = np.append(k_users, [distance_idx[:k]], axis=0)\n",
    "                    \n",
    "        return k_users"
   ]
  },
  {
   "cell_type": "code",
   "execution_count": null,
   "id": "07da5b7a",
   "metadata": {},
   "outputs": [],
   "source": [
    "cl = Classification(dfRandomData)"
   ]
  },
  {
   "cell_type": "code",
   "execution_count": null,
   "id": "9b6f208d",
   "metadata": {},
   "outputs": [],
   "source": [
    "cl.Extraction()\n",
    "cl.ls"
   ]
  },
  {
   "cell_type": "code",
   "execution_count": null,
   "id": "7d9aadd4",
   "metadata": {},
   "outputs": [],
   "source": [
    "train_feature = cl.Ohe()\n",
    "train_feature"
   ]
  },
  {
   "cell_type": "code",
   "execution_count": null,
   "id": "5f5935bb",
   "metadata": {},
   "outputs": [],
   "source": [
    "cl.makeData(train_feature)"
   ]
  },
  {
   "cell_type": "code",
   "execution_count": null,
   "id": "85c2c5ca",
   "metadata": {},
   "outputs": [],
   "source": [
    "result = cl.Kmeans()\n",
    "result"
   ]
  },
  {
   "cell_type": "code",
   "execution_count": 464,
   "id": "bd80ab45",
   "metadata": {},
   "outputs": [],
   "source": [
    "k_users = cl.ReturnResult()"
   ]
  },
  {
   "cell_type": "code",
   "execution_count": 465,
   "id": "1382305c",
   "metadata": {},
   "outputs": [
    {
     "data": {
      "text/plain": [
       "array([[126., 121., 116., 222.,   2.],\n",
       "       [379., 181., 170., 118., 440.],\n",
       "       [370., 441., 434., 230., 215.],\n",
       "       ...,\n",
       "       [404., 165., 383., 413., 473.],\n",
       "       [234., 121., 483.,  98., 230.],\n",
       "       [164.,  87., 287., 131., 146.]])"
      ]
     },
     "execution_count": 465,
     "metadata": {},
     "output_type": "execute_result"
    }
   ],
   "source": [
    "k_users"
   ]
  }
 ],
 "metadata": {
  "kernelspec": {
   "display_name": "Python 3 (ipykernel)",
   "language": "python",
   "name": "python3"
  },
  "language_info": {
   "codemirror_mode": {
    "name": "ipython",
    "version": 3
   },
   "file_extension": ".py",
   "mimetype": "text/x-python",
   "name": "python",
   "nbconvert_exporter": "python",
   "pygments_lexer": "ipython3",
   "version": "3.9.7"
  }
 },
 "nbformat": 4,
 "nbformat_minor": 5
}
